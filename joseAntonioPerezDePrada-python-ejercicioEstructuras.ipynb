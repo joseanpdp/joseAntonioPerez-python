{
  "nbformat": 4,
  "nbformat_minor": 0,
  "metadata": {
    "colab": {
      "provenance": []
    },
    "kernelspec": {
      "name": "python3",
      "display_name": "Python 3"
    },
    "language_info": {
      "name": "python"
    }
  },
  "cells": [
    {
      "cell_type": "markdown",
      "source": [
        "## Ejercicio 1:\n",
        "Dada una lista de números, escribe un programa que encuentre e imprima el número más grande y el número más pequeño. Además, muestra la suma de todos los elementos en la lista.\n",
        "\n",
        "**numbers = [15, 7, 22, 45, 98, 10, 35]**"
      ],
      "metadata": {
        "id": "3Zi4XsV4m9Jf"
      }
    },
    {
      "cell_type": "code",
      "execution_count": 23,
      "metadata": {
        "colab": {
          "base_uri": "https://localhost:8080/"
        },
        "id": "iYKrDe6NU2e-",
        "outputId": "6eda2fa6-bfa8-4110-fb8a-3469853417ab"
      },
      "outputs": [
        {
          "output_type": "stream",
          "name": "stdout",
          "text": [
            "Número grande: 98\n",
            "Número pequeño: 7\n",
            "Suma de todos los números: 232\n"
          ]
        }
      ],
      "source": [
        "numbers = [15, 7, 22, 45, 98, 10, 35]\n",
        "bigNumber = max(numbers)\n",
        "smallNumber = min(numbers)\n",
        "addition = 0\n",
        "for number in numbers:\n",
        "  addition += number\n",
        "print(f\"Número grande: {bigNumber}\")\n",
        "print(f\"Número pequeño: {smallNumber}\")\n",
        "print(f\"Suma de todos los números: {addition}\")"
      ]
    },
    {
      "cell_type": "markdown",
      "source": [
        "## Ejercicio 2:\n",
        "Crea un diccionario que represente un libro. El diccionario debe contener información como el título, el autor, el año de publicación y el número de páginas. Luego, escribe un programa que imprima cada detalle del libro en líneas separadas.\n",
        "\n",
        "book = {\n",
        "    \"title\": \"The Python Programming Language\",\n",
        "    \"author\": \"Guido van Rossum\",\n",
        "    \"year\": 2009,\n",
        "    \"pages\": 500\n",
        "}"
      ],
      "metadata": {
        "id": "akkAmd9YqPrV"
      }
    },
    {
      "cell_type": "code",
      "source": [
        "book = {\n",
        "    \"title\": \"The Python Programming Language\",\n",
        "    \"author\": \"Guido van Rossum\",\n",
        "    \"year\": 2009,\n",
        "    \"pages\": 500\n",
        "}\n",
        "\n",
        "print(book[\"title\"])\n",
        "print(book[\"author\"])\n",
        "print(book[\"year\"])\n",
        "print(book[\"pages\"])"
      ],
      "metadata": {
        "colab": {
          "base_uri": "https://localhost:8080/"
        },
        "id": "QVe3B5vum7bf",
        "outputId": "43e17ecf-7cee-4a8a-fc31-0ce9a0a3b3c6"
      },
      "execution_count": null,
      "outputs": [
        {
          "output_type": "stream",
          "name": "stdout",
          "text": [
            "The Python Programming Language\n",
            "Guido van Rossum\n",
            "2009\n",
            "500\n"
          ]
        }
      ]
    },
    {
      "cell_type": "markdown",
      "source": [
        "## Ejercicio 3:\n",
        "Dadas dos listas, conviértelas en conjuntos y realiza las siguientes operaciones:\n",
        "1. Encuentra e imprime los elementos comunes en ambos conjuntos.\n",
        "2. Encuentra e imprime los elementos que son exclusivos de cada conjunto (no comunes).\n",
        "\n",
        "list1 = [1, 2, 3, 4, 5]\n",
        "\n",
        "list2 = [3, 4, 5, 6, 7]\n"
      ],
      "metadata": {
        "id": "8FVoJjyBxfZl"
      }
    },
    {
      "cell_type": "code",
      "source": [
        "list1 = [1, 2, 3, 4, 5]\n",
        "list2 = [3, 4, 5, 6, 7]\n",
        "\n",
        "set1 = set(list1)\n",
        "set2 = set(list2)\n",
        "comunElements = set1.intersection(set2)\n",
        "print(\"Elementos comunes:\", comunElements)\n",
        "\n",
        "exclusivesElementsSet1 = set1.difference(set2)\n",
        "exclusivesElementsSet2 = set2.difference(set1)\n",
        "print(\"Elementos exclusivos del conjunto1:\", exclusivesElementsSet1)\n",
        "print(\"Elementos exclusivos del conjunto2:\", exclusivesElementsSet2)"
      ],
      "metadata": {
        "colab": {
          "base_uri": "https://localhost:8080/"
        },
        "id": "fl3mSTgOxfz6",
        "outputId": "f1718fb3-f8b7-46a0-d1c1-07c759c0e736"
      },
      "execution_count": 24,
      "outputs": [
        {
          "output_type": "stream",
          "name": "stdout",
          "text": [
            "Elementos comunes: {3, 4, 5}\n",
            "Elementos exclusivos del conjunto1: {1, 2}\n",
            "Elementos exclusivos del conjunto2: {6, 7}\n"
          ]
        }
      ]
    },
    {
      "cell_type": "markdown",
      "source": [
        "## Ejercicio 4:\n",
        "Dada una lista de listas que representan pares (nombre, edad), escribe un programa que encuentre e imprima el nombre y la edad de la persona más joven\n",
        "y la persona más vieja.\n",
        "\n",
        "people = [[\"Alice\", 25],\n",
        "          [\"Bob\", 30],\n",
        "          [\"Charlie\", 22],\n",
        "          [\"David\", 35],\n",
        "          [\"Eva\", 28]\n",
        "         ]"
      ],
      "metadata": {
        "id": "5VgI9wpY28zh"
      }
    },
    {
      "cell_type": "code",
      "source": [
        "people = [[\"Alice\", 25], [\"Bob\", 30], [\"Charlie\", 22], [\"David\", 35], [\"Eva\", 28]]\n",
        "ages = []\n",
        "for person in people:\n",
        "  ages.append(person[1])\n",
        "\n",
        "olderAge = max(ages)\n",
        "youngerAge = min(ages)\n",
        "\n",
        "for person in people:\n",
        "  if olderAge == person[1]:\n",
        "    older = person\n",
        "  elif youngerAge == person[1]:\n",
        "    younger = person\n",
        "\n",
        "print(f\"Menor: {younger}\")\n",
        "print(f\"Mayor: {older}\")"
      ],
      "metadata": {
        "colab": {
          "base_uri": "https://localhost:8080/"
        },
        "id": "LvR1hGfP3Tet",
        "outputId": "01876a4b-9b03-4e59-b1a2-170b01696e3f"
      },
      "execution_count": 27,
      "outputs": [
        {
          "output_type": "stream",
          "name": "stdout",
          "text": [
            "Menor: ['Charlie', 22]\n",
            "Mayor: ['David', 35]\n"
          ]
        }
      ]
    },
    {
      "cell_type": "markdown",
      "source": [
        "# Ejercicio 5:\n",
        "Crea un diccionario que almacene información sobre estudiantes y sus calificaciones. Luego, escribe un programa que calcule e imprima el promedio de calificaciones para cada estudiante.\n",
        "\n",
        "students = {\n",
        "    \"Alice\": [85, 90, 92],\n",
        "    \"Bob\": [78, 89, 84],\n",
        "    \"Charlie\": [90, 92, 88],\n",
        "    \"David\": [85, 79, 92]\n",
        "}"
      ],
      "metadata": {
        "id": "Ezp88YE4_5T4"
      }
    },
    {
      "cell_type": "code",
      "source": [
        "students = {\n",
        "    \"Alice\": [85, 90, 92],\n",
        "    \"Bob\": [78, 89, 84],\n",
        "    \"Charlie\": [90, 92, 88],\n",
        "    \"David\": [85, 79, 92]\n",
        "}\n",
        "\n",
        "for student, ratings in students.items():\n",
        "  addition = sum(ratings)\n",
        "  quantity = len(ratings)\n",
        "  average = addition / quantity\n",
        "  print(f\"{student}: {average}\")\n"
      ],
      "metadata": {
        "colab": {
          "base_uri": "https://localhost:8080/"
        },
        "id": "Com77R4n_8-1",
        "outputId": "ffba3671-c203-48aa-bb98-9dbb0683a2ec"
      },
      "execution_count": 29,
      "outputs": [
        {
          "output_type": "stream",
          "name": "stdout",
          "text": [
            "Alice: 89.0\n",
            "Bob: 83.66666666666667\n",
            "Charlie: 90.0\n",
            "David: 85.33333333333333\n"
          ]
        }
      ]
    },
    {
      "cell_type": "markdown",
      "source": [
        "## Ejercicio 6:\n",
        "Dada una lista de estudiantes con sus calificaciones, crea un diccionario que almacene la información de los estudiantes que aprobaron (calificación mayor o igual a 70) en un formato {'nombre': 'calificación'}. Luego, imprime este diccionario.\n",
        "\n",
        "students = [(\"Alice\", 85), (\"Bob\", 60), (\"Charlie\", 72), (\"David\", 90), (\"Eva\", 68)]"
      ],
      "metadata": {
        "id": "byfTf3Nhf_xG"
      }
    },
    {
      "cell_type": "code",
      "source": [
        "students = [\n",
        "    (\"Alice\", 85),\n",
        "    (\"Bob\", 60),\n",
        "    (\"Charlie\", 72),\n",
        "    (\"David\", 90),\n",
        "    (\"Eva\", 68)\n",
        "]\n",
        "approveds = dict(students)\n",
        "print(approveds)\n"
      ],
      "metadata": {
        "colab": {
          "base_uri": "https://localhost:8080/"
        },
        "id": "IXDri3XYgKBc",
        "outputId": "bd82afc3-457e-4839-8de5-43bc2ce8b459"
      },
      "execution_count": 30,
      "outputs": [
        {
          "output_type": "stream",
          "name": "stdout",
          "text": [
            "{'Alice': 85, 'Bob': 60, 'Charlie': 72, 'David': 90, 'Eva': 68}\n"
          ]
        }
      ]
    },
    {
      "cell_type": "markdown",
      "source": [
        "## Ejercicio 7:\n",
        "Dados dos conjuntos y una lista, crea una nueva lista que contenga elementos que están en la lista pero no en ninguno de los conjuntos.\n",
        "\n",
        "set1 = {1, 2, 3, 4, 5}\n",
        "set2 = {4, 5, 6, 7, 8}\n",
        "my_list = [3, 7, 2, 8, 10]"
      ],
      "metadata": {
        "id": "K9C7ohCGoody"
      }
    },
    {
      "cell_type": "code",
      "source": [
        "set1 = {1, 2, 3, 4, 5}\n",
        "set2 = {4, 5, 6, 7, 8}\n",
        "myList = [3, 7, 2, 8, 10]\n",
        "\n",
        "mySet = set(myList)\n",
        "totalSet = set1\n",
        "for element in set2:\n",
        "  totalSet.add(element)\n",
        "newSet = mySet.difference(totalSet)\n",
        "newList = list(newSet)\n",
        "print(newList)"
      ],
      "metadata": {
        "colab": {
          "base_uri": "https://localhost:8080/"
        },
        "id": "Gh0AK8wwqbj8",
        "outputId": "57bbf5b5-23c4-4eab-cf47-fed7a04af94d"
      },
      "execution_count": 38,
      "outputs": [
        {
          "output_type": "stream",
          "name": "stdout",
          "text": [
            "[10]\n"
          ]
        }
      ]
    },
    {
      "cell_type": "markdown",
      "source": [
        "## Ejercicio 8:\n",
        "Crea una estructura de datos que represente una biblioteca. La biblioteca debe contener información sobre libros, autores y la cantidad de copias disponibles.\n",
        "Luego, escribe un programa que muestre todos los libros de un autor específico\n",
        "y la cantidad total de copias disponibles para ese autor.\n",
        "\n",
        "library = {\n",
        "    \"books\": [\n",
        "        {\"title\": \"Book1\", \"author\": \"Author1\", \"copies\": 5},\n",
        "        {\"title\": \"Book2\", \"author\": \"Author2\", \"copies\": 3},\n",
        "        {\"title\": \"Book3\", \"author\": \"Author1\", \"copies\": 8},...\n",
        "    ]\n",
        "}"
      ],
      "metadata": {
        "id": "x6MMsf88qtgH"
      }
    },
    {
      "cell_type": "code",
      "source": [
        "library = {\n",
        "    \"books\": [\n",
        "        {\"title\": \"2001: A Space Odyssey\", \"author\": \"Arthur C. Clarke\", \"copies\": 5},\n",
        "        {\"title\": \"I, Robot\", \"author\": \"Isaac Asimov\", \"copies\": 3},\n",
        "        {\"title\": \"2010: Odyssey Two\", \"author\": \"Arthur C. Clarke\", \"copies\": 8},\n",
        "        {\"title\": \"The End of Childhood\", \"author\": \"Arthur C. Clarke\", \"copies\": 8},\n",
        "        {\"title\": \"The Last Question\", \"author\": \"Isaac Asimov\", \"copies\": 5},\n",
        "        {\"title\": \"Nightfall\", \"author\": \"Isaac Asimov\", \"copies\": 2},\n",
        "        {\"title\": \"The Three-Body Problem\", \"author\": \"Cixin Liu\", \"copies\": 8},\n",
        "        {\"title\": \"The Dark Forest\", \"author\": \"Cixin Liu\", \"copies\": 9},\n",
        "        {\"title\": \"Rendezvous with Rama\", \"author\": \"Arthur C. Clarke\", \"copies\": 4},\n",
        "        {\"title\": \"Death's End\", \"author\": \"Cixin Liu\", \"copies\": 12}\n",
        "    ]\n",
        "}\n",
        "\n",
        "author = \"Isaac Asimov\"\n",
        "copies = 0\n",
        "print(f\"Libros de: {author}\")\n",
        "for book in library[\"books\"]:\n",
        "  if book[\"author\"] == author:\n",
        "    title = book[\"title\"]\n",
        "    print(f\"    {title}\")\n",
        "    copies += book[\"copies\"]\n",
        "\n",
        "print(f\"Copies: {copies}\")"
      ],
      "metadata": {
        "colab": {
          "base_uri": "https://localhost:8080/"
        },
        "id": "Fp-CzEwyrHUC",
        "outputId": "c7e0df15-b187-492a-aa7f-a9cd78c31be6"
      },
      "execution_count": 22,
      "outputs": [
        {
          "output_type": "stream",
          "name": "stdout",
          "text": [
            "Libros de: Isaac Asimov\n",
            "    I, Robot\n",
            "    The Last Question\n",
            "    Nightfall\n",
            "Copies: 10\n"
          ]
        }
      ]
    }
  ]
}